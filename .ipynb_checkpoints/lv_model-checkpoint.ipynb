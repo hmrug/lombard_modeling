{
 "cells": [
  {
   "cell_type": "code",
   "execution_count": 1,
   "id": "racial-klein",
   "metadata": {},
   "outputs": [],
   "source": [
    "# Loading packages\n",
    "import numpy as np\n",
    "import pandas as pd\n",
    "import pandas_datareader as pdr\n",
    "import matplotlib.pyplot as plt\n",
    "import statsmodels\n",
    "from scipy import stats"
   ]
  },
  {
   "cell_type": "code",
   "execution_count": 2,
   "id": "stone-refund",
   "metadata": {},
   "outputs": [],
   "source": [
    "start = '2018-04-01' # start date of time series\n",
    "today = '2021-04-01' # end date of time series\n",
    "\n",
    "# SWI20 (yahoo) tickers\n",
    "swi = ['SGSN.SW','SCMN.SW','GIVN.SW','ZURN.SW','NOVN.SW',\n",
    "          'ROG.SW','CSGN.SW','LHN.SW','ABBN.SW','UHR.SW',\n",
    "          'LONN.SW','SLHN.SW','PGHN.SW','GEBN.SW','NESN.SW',\n",
    "          'SREN.SW','CFR.SW','UBSG.SW','SIKA.SW','ALC.SW']\n",
    "\n",
    "# Names of those SWI firms\n",
    "swi_names = ['SGS','Swisscom','Givaudan','Zurich Insurance Group','Novartis',\n",
    "         'Roche','Credit Suisse','LafargeHolcim','ABB','Swatch Group',\n",
    "         'Lonza','Swiss Life Holding','Partners Group','Geberit','Nestle',\n",
    "         'Swiss Re','Richemont','UBS','Sika','Alcon']\n",
    "\n",
    "# more_ticks = ['ADEN.SW','BAER.SW','CLN.SW','GIVN.SW','KNIN.SW','SOON.SW']\n",
    "# more_names = ['Adecco Group','Julius Bär','Clariant','Givaudan','Kuehne + Nagel International','Sonova']"
   ]
  },
  {
   "cell_type": "code",
   "execution_count": 3,
   "id": "collaborative-attachment",
   "metadata": {},
   "outputs": [],
   "source": [
    "# Fetch daily price and volume data from yahoo; calculate log prices\n",
    "def get_data(ticks,start_date,end_date):    \n",
    "    prices = []\n",
    "    for i in ticks:\n",
    "        closing = pdr.DataReader(i,\n",
    "                                 data_source='yahoo',\n",
    "                                 start=start_date,\n",
    "                                 end=end_date\n",
    "                                ).iloc[:,-1]\n",
    "        prices.append(closing)\n",
    "\n",
    "    prices = pd.concat(prices,axis=1)\n",
    "    prices.columns = ticks\n",
    "    prices_logs = np.log(prices/prices.shift(1))\n",
    "\n",
    "    volumes = []\n",
    "    for i in ticks:\n",
    "        vol = pdr.DataReader(i,\n",
    "                                 data_source='yahoo',\n",
    "                                 start=start_date,\n",
    "                                 end=end_date\n",
    "                                ).iloc[:,-2]\n",
    "        volumes.append(vol)\n",
    "\n",
    "    volumes = pd.concat(volumes,axis=1)\n",
    "    volumes.columns = ticks\n",
    "    \n",
    "    return prices, prices_logs, volumes\n",
    "\n",
    "# Calculate ADTV and sort them by value - last month\n",
    "def ADTV(volumes):\n",
    "    adtv = pd.DataFrame(data=[volumes.iloc[-20:,:].mean(),\n",
    "                              volumes.iloc[-250*3:,:].mean()],\n",
    "                        index=['Last month','Last three years']) \\\n",
    "                        .transpose()\n",
    "    adtv_sorted = adtv.sort_values(by='Last month',ascending=False)\n",
    "    return adtv_sorted\n",
    "\n",
    "# Plot prices or volumes\n",
    "def plot_volumes(prices):\n",
    "    tcks = prices.columns\n",
    "    fig, ax = plt.subplots(nrows=len(tcks),ncols=1,\n",
    "                           figsize=[16,9*2],dpi=100)\n",
    "    for i in range(len(tcks)):\n",
    "        ax[i].plot(prices.iloc[:,i])\n",
    "        ax[i].set_title(tcks[i])\n",
    "    plt.tight_layout()\n",
    "    \n",
    "# Plot log prices\n",
    "def plot_volatility(logprices):\n",
    "    tcks = logprices.columns\n",
    "    fig, ax = plt.subplots(nrows=len(tcks),ncols=1,\n",
    "                           figsize=[16,9*2],dpi=100)\n",
    "    for i in range(len(tcks)):\n",
    "        ax[i].plot(logprices.iloc[:,i])\n",
    "        ax[i].axhline(y=0,c='k')\n",
    "        ax[i].set_title(tcks[i])\n",
    "    plt.tight_layout()\n",
    "    \n",
    "# Lending Value (not adjusted)\n",
    "def LV(log_prices,alpha,epsilon,delta):\n",
    "    mu = log_prices.mean()\n",
    "    sigma = log_prices.std()\n",
    "    drift = (mu-sigma**2/2)*delta\n",
    "    diffusion = sigma**2*delta\n",
    "    lv = ( (1-alpha)*(np.exp(drift+sigma*np.sqrt(delta)*stats.norm.ppf(epsilon))) ) / \\\n",
    "    ( 1-alpha*(np.exp(drift+sigma*np.sqrt(delta)*stats.norm.ppf(epsilon))) )\n",
    "    return lv\n",
    "\n",
    "# Lending Value adjusted for liquidity -- to do\n",
    "def LV_adj(log_prices,alpha,epsilon,delta):\n",
    "    mu = log_prices.mean()\n",
    "    sigma = log_prices.std()\n",
    "    drift = (mu-sigma**2/2)*delta\n",
    "    diffusion = sigma**2*delta\n",
    "    x = 0\n",
    "    gamma = 0\n",
    "    lv_adj = 0\n",
    "    return lv_adj"
   ]
  },
  {
   "cell_type": "code",
   "execution_count": null,
   "id": "yellow-potter",
   "metadata": {},
   "outputs": [],
   "source": [
    "# SWI stocks prices for the last 3 years\n",
    "prices_swi = get_data(swi,start,today)[0]\n",
    "# Same but log prices\n",
    "logprices_swi = get_data(swi,start,today)[1]\n",
    "# Same but volume\n",
    "volumes_swi = get_data(swi,start,today)[2]"
   ]
  },
  {
   "cell_type": "code",
   "execution_count": null,
   "id": "honest-aquarium",
   "metadata": {},
   "outputs": [],
   "source": [
    "prices_swi"
   ]
  },
  {
   "cell_type": "code",
   "execution_count": null,
   "id": "infectious-morrison",
   "metadata": {},
   "outputs": [],
   "source": [
    "ADTV(volumes_swi)"
   ]
  },
  {
   "cell_type": "code",
   "execution_count": null,
   "id": "paperback-method",
   "metadata": {},
   "outputs": [],
   "source": [
    "# Select the most liquid, 5th liquid, 10th liquid, 16th liquid and the least liquid stock in the SMI index\n",
    "selection = [0,4,9,15,19]\n",
    "ADTV(volumes_swi).iloc[selection,:]\n",
    "\n",
    "selected_ticks = list(ADTV(volumes_swi).iloc[selection,:].index)\n",
    "selected_prices = prices_swi[selected_ticks]\n",
    "selected_logprices = logprices_swi[selected_ticks]\n",
    "selected_volumes = volumes_swi[selected_ticks]"
   ]
  },
  {
   "cell_type": "markdown",
   "id": "magnetic-coalition",
   "metadata": {},
   "source": [
    "### Descriptive stats for price time series of selected stocks"
   ]
  },
  {
   "cell_type": "code",
   "execution_count": null,
   "id": "atlantic-memory",
   "metadata": {},
   "outputs": [],
   "source": [
    "selected_prices.describe()\n",
    "# only 2 years of data for ALC.SW"
   ]
  },
  {
   "cell_type": "markdown",
   "id": "wireless-showcase",
   "metadata": {},
   "source": [
    "### Plots: price, volatility and volume time series"
   ]
  },
  {
   "cell_type": "code",
   "execution_count": null,
   "id": "exceptional-english",
   "metadata": {},
   "outputs": [],
   "source": [
    "# Stock price time series\n",
    "plot_volumes(selected_prices)"
   ]
  },
  {
   "cell_type": "code",
   "execution_count": null,
   "id": "vocal-calculation",
   "metadata": {},
   "outputs": [],
   "source": [
    "# Stock volatility time series\n",
    "plot_volatility(selected_logprices)"
   ]
  },
  {
   "cell_type": "code",
   "execution_count": null,
   "id": "social-arizona",
   "metadata": {},
   "outputs": [],
   "source": [
    "selected_volumes"
   ]
  },
  {
   "cell_type": "code",
   "execution_count": null,
   "id": "brutal-niagara",
   "metadata": {},
   "outputs": [],
   "source": [
    "# Stock trading volume time series\n",
    "plot_volumes(selected_volumes)"
   ]
  },
  {
   "cell_type": "markdown",
   "id": "settled-mambo",
   "metadata": {},
   "source": [
    "## Model"
   ]
  },
  {
   "cell_type": "code",
   "execution_count": null,
   "id": "warming-keyboard",
   "metadata": {},
   "outputs": [],
   "source": [
    "# Parameters\n",
    "alpha = 0.25\n",
    "epsilon = 0.01\n",
    "delta = 10"
   ]
  },
  {
   "cell_type": "markdown",
   "id": "cheap-whale",
   "metadata": {},
   "source": [
    "### SMI"
   ]
  },
  {
   "cell_type": "code",
   "execution_count": null,
   "id": "suburban-sunrise",
   "metadata": {},
   "outputs": [],
   "source": [
    "smi_lvs = []\n",
    "for i in range(len(logprices_swi.columns)):\n",
    "    lv = LV(logprices_swi.iloc[:,i],alpha,epsilon,delta)\n",
    "    smi_lvs.append(lv)\n",
    "smi_lvs = pd.DataFrame(lvs,index=swi)\n",
    "smi_lvs.columns = ['Lending Value']\n",
    "\n",
    "smi_lvs"
   ]
  },
  {
   "cell_type": "code",
   "execution_count": null,
   "id": "naked-rover",
   "metadata": {},
   "outputs": [],
   "source": [
    "# LV for selected stocks\n",
    "smi_lvs.loc[selected_ticks,:].sort_values(by='Lending Value',ascending=False)"
   ]
  },
  {
   "cell_type": "markdown",
   "id": "lightweight-cooper",
   "metadata": {},
   "source": [
    "### Tesla"
   ]
  },
  {
   "cell_type": "code",
   "execution_count": null,
   "id": "blind-newman",
   "metadata": {},
   "outputs": [],
   "source": [
    "tsla_logs = get_data(['TSLA'],start,today)[1]\n",
    "\n",
    "tsla_lv = LV(tsla_logs,alpha,epsilon,delta)\n",
    "print('Lending Value for Tesla stock collateral: '+str(tsla_lv[0].round(2)))"
   ]
  },
  {
   "cell_type": "markdown",
   "id": "inclusive-dakota",
   "metadata": {},
   "source": [
    "---\n",
    "---\n",
    "## Hubert's todo"
   ]
  },
  {
   "cell_type": "markdown",
   "id": "played-walker",
   "metadata": {},
   "source": [
    "- Adjust the model for liquidity\n",
    "- Model the lombard process\n",
    "- CAPM\n",
    "- VaR and ES\n",
    "- Backtesting\n",
    "- Other papers"
   ]
  }
 ],
 "metadata": {
  "kernelspec": {
   "display_name": "Python 3",
   "language": "python",
   "name": "python3"
  },
  "language_info": {
   "codemirror_mode": {
    "name": "ipython",
    "version": 3
   },
   "file_extension": ".py",
   "mimetype": "text/x-python",
   "name": "python",
   "nbconvert_exporter": "python",
   "pygments_lexer": "ipython3",
   "version": "3.9.1"
  }
 },
 "nbformat": 4,
 "nbformat_minor": 5
}
